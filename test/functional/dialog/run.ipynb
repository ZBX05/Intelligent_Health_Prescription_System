{
 "cells": [
  {
   "cell_type": "code",
   "execution_count": 1,
   "metadata": {},
   "outputs": [],
   "source": [
    "from dialogTest import Test\n",
    "import pandas as pd"
   ]
  },
  {
   "cell_type": "code",
   "execution_count": 2,
   "metadata": {},
   "outputs": [],
   "source": [
    "test_data=pd.read_csv('./dialog.csv')"
   ]
  },
  {
   "cell_type": "code",
   "execution_count": 3,
   "metadata": {},
   "outputs": [],
   "source": [
    "test=Test('test@outlook.com','test1234','https://127.0.0.1:5000')"
   ]
  },
  {
   "cell_type": "code",
   "execution_count": 4,
   "metadata": {},
   "outputs": [],
   "source": [
    "result=test(test_data)"
   ]
  },
  {
   "cell_type": "code",
   "execution_count": 5,
   "metadata": {},
   "outputs": [],
   "source": [
    "result_data=test_data\n",
    "result_data[\"result\"]=result\n",
    "result_data.index=[i for i in range(1,len(result_data)+1)]"
   ]
  },
  {
   "cell_type": "code",
   "execution_count": 6,
   "metadata": {},
   "outputs": [],
   "source": [
    "pd.DataFrame.to_csv(result_data,'./result.csv')"
   ]
  },
  {
   "cell_type": "markdown",
   "metadata": {},
   "source": [
    "人工识别result.csv中的错误生成数据，将其id值记录在wrong.txt中（注意是id值不是行号）"
   ]
  },
  {
   "cell_type": "code",
   "execution_count": 2,
   "metadata": {},
   "outputs": [],
   "source": [
    "unmark_result=pd.read_csv('./result.csv')\n",
    "unmark_result=unmark_result.drop('Unnamed: 0',axis=1)\n",
    "unmark_result.index=[i for i in range(1,len(unmark_result)+1)]\n",
    "with open('./wrong.txt','r',encoding='utf-8',errors='ignore') as fp:\n",
    "    wrong=fp.readlines()\n",
    "worng=[eval(str.strip(idx,'\\n'))-1 for idx in wrong]"
   ]
  },
  {
   "cell_type": "code",
   "execution_count": 3,
   "metadata": {},
   "outputs": [],
   "source": [
    "correct=[True for _ in range(len(unmark_result))]\n",
    "for idx in worng:\n",
    "    correct[idx]=False"
   ]
  },
  {
   "cell_type": "code",
   "execution_count": 4,
   "metadata": {},
   "outputs": [],
   "source": [
    "unmark_result[\"correct\"]=correct\n",
    "unmark_result[\"true\"]=unmark_result[\"result\"]\n",
    "marked=unmark_result"
   ]
  },
  {
   "cell_type": "code",
   "execution_count": 10,
   "metadata": {},
   "outputs": [],
   "source": [
    "pd.DataFrame.to_csv(marked,'./marked.csv')"
   ]
  },
  {
   "cell_type": "markdown",
   "metadata": {},
   "source": [
    "marked.csv需要手动校对，对于错误的生成数据，手动运行dialog.py得到正确答案后将其放在“true”一列中的对应位置"
   ]
  },
  {
   "cell_type": "code",
   "execution_count": 11,
   "metadata": {},
   "outputs": [],
   "source": [
    "marked_result=pd.read_csv('./marked.csv')\n",
    "marked_result=marked_result.drop('Unnamed: 0',axis=1)\n",
    "marked_result.index=[i for i in range(1,len(marked_result)+1)]"
   ]
  },
  {
   "cell_type": "code",
   "execution_count": 12,
   "metadata": {},
   "outputs": [],
   "source": [
    "unknow=[]\n",
    "for result in marked_result[\"true\"]:\n",
    "    if(result.find('非常抱歉')!=-1):\n",
    "        unknow.append(True)\n",
    "    else:\n",
    "        unknow.append(False)\n",
    "marked_result[\"unknown\"]=unknow\n",
    "final_result=marked_result"
   ]
  },
  {
   "cell_type": "code",
   "execution_count": 6,
   "metadata": {},
   "outputs": [
    {
     "name": "stdout",
     "output_type": "stream",
     "text": [
      "correct\n",
      "True     79\n",
      "False     1\n",
      "Name: count, dtype: int64\n"
     ]
    }
   ],
   "source": [
    "print(final_result[\"correct\"].value_counts())"
   ]
  },
  {
   "cell_type": "code",
   "execution_count": 7,
   "metadata": {},
   "outputs": [
    {
     "name": "stdout",
     "output_type": "stream",
     "text": [
      "unknown\n",
      "False    70\n",
      "True     10\n",
      "Name: count, dtype: int64\n"
     ]
    }
   ],
   "source": [
    "print(final_result[\"unknown\"].value_counts())"
   ]
  },
  {
   "cell_type": "code",
   "execution_count": 15,
   "metadata": {},
   "outputs": [],
   "source": [
    "pd.DataFrame.to_csv(final_result,'./final.csv')"
   ]
  }
 ],
 "metadata": {
  "kernelspec": {
   "display_name": "python3_11_5",
   "language": "python",
   "name": "python3"
  },
  "language_info": {
   "codemirror_mode": {
    "name": "ipython",
    "version": 3
   },
   "file_extension": ".py",
   "mimetype": "text/x-python",
   "name": "python",
   "nbconvert_exporter": "python",
   "pygments_lexer": "ipython3",
   "version": "3.11.5"
  }
 },
 "nbformat": 4,
 "nbformat_minor": 2
}
