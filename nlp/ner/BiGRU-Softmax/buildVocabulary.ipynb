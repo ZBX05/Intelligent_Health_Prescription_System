{
 "cells": [
  {
   "cell_type": "code",
   "execution_count": 3,
   "metadata": {},
   "outputs": [],
   "source": [
    "import numpy as np\n",
    "import jieba\n",
    "import json\n",
    "import numpy as np\n",
    "import NERConfig"
   ]
  },
  {
   "cell_type": "code",
   "execution_count": 2,
   "metadata": {},
   "outputs": [],
   "source": [
    "with open(NERConfig.data_dir,'r',encoding='utf-8',errors='ignore') as fp:\n",
    "    data_json=json.load(fp)\n",
    "    texts=[]\n",
    "    for data_dict in data_json:\n",
    "        texts.append(data_dict[\"text\"])"
   ]
  },
  {
   "cell_type": "code",
   "execution_count": 3,
   "metadata": {},
   "outputs": [],
   "source": [
    "word_freq={}"
   ]
  },
  {
   "cell_type": "code",
   "execution_count": 4,
   "metadata": {},
   "outputs": [],
   "source": [
    "for text in texts:\n",
    "    for ch in text:\n",
    "        if ch in word_freq:\n",
    "            word_freq[ch]+=1\n",
    "        else:\n",
    "            word_freq[ch]=1"
   ]
  },
  {
   "cell_type": "code",
   "execution_count": 5,
   "metadata": {},
   "outputs": [],
   "source": [
    "index=0\n",
    "sorted_word=sorted(word_freq.items(), key=lambda e: e[1],reverse=True)\n",
    "word_to_id={}\n",
    "id_to_word={}\n",
    "for item in sorted_word:\n",
    "    word_to_id[item[0]]=index\n",
    "    index+=1\n",
    "    if index>=NERConfig.max_vocab_size:\n",
    "        break\n",
    "id_to_word={_idx:_word for _word,_idx in list(word_to_id.items())}"
   ]
  },
  {
   "cell_type": "code",
   "execution_count": 7,
   "metadata": {},
   "outputs": [],
   "source": [
    "np.savez_compressed(NERConfig.vocab_dir,word_to_id=word_to_id, id_to_word=id_to_word)"
   ]
  }
 ],
 "metadata": {
  "kernelspec": {
   "display_name": "python3_11_5",
   "language": "python",
   "name": "python3"
  },
  "language_info": {
   "codemirror_mode": {
    "name": "ipython",
    "version": 3
   },
   "file_extension": ".py",
   "mimetype": "text/x-python",
   "name": "python",
   "nbconvert_exporter": "python",
   "pygments_lexer": "ipython3",
   "version": "3.11.5"
  }
 },
 "nbformat": 4,
 "nbformat_minor": 2
}
