{
 "cells": [
  {
   "cell_type": "code",
   "execution_count": 53,
   "metadata": {},
   "outputs": [],
   "source": [
    "import json"
   ]
  },
  {
   "cell_type": "code",
   "execution_count": 54,
   "metadata": {},
   "outputs": [],
   "source": [
    "with open('./ccks2018_task1.json') as fp:\n",
    "    data_json_2018=json.load(fp)"
   ]
  },
  {
   "cell_type": "code",
   "execution_count": 55,
   "metadata": {},
   "outputs": [
    {
     "name": "stdout",
     "output_type": "stream",
     "text": [
      "['B-检查和检验', 'I-身体部位', 'O', 'I-检查和检验', 'B-疾病和诊断', 'I-治疗', 'B-治疗', 'I-症状和体征', 'B-身体部位', 'B-症状和体征', 'I-疾病和诊断']\n"
     ]
    }
   ],
   "source": [
    "unique_labels_1=[]\n",
    "for data_dict in data_json_2018:\n",
    "    labels=data_dict[\"labels\"]\n",
    "    for label in list(set(labels)):\n",
    "        if label not in unique_labels_1:\n",
    "            unique_labels_1.append(label)\n",
    "unique_labels_1=list(set(unique_labels_1))\n",
    "print(unique_labels_1)"
   ]
  },
  {
   "cell_type": "code",
   "execution_count": 56,
   "metadata": {},
   "outputs": [],
   "source": [
    "index_to_labels_1={\n",
    "    \"B-症状和体征\":\"B-symp\",\n",
    "    \"B-身体部位\":\"B-body\",\n",
    "    \"B-治疗\":\"B-cure\",\n",
    "    \"B-检查和检验\":\"B-chec\",\n",
    "    \"B-疾病和诊断\":\"B-dise\",\n",
    "    \"I-治疗\":\"I-cure\",\n",
    "    \"I-检查和检验\":\"I-chec\",\n",
    "    \"I-疾病和诊断\":\"I-dise\",\n",
    "    \"I-身体部位\":\"I-body\",\n",
    "    \"I-症状和体征\":\"I-symp\",\n",
    "    \"O\":\"O\"\n",
    "}"
   ]
  },
  {
   "cell_type": "code",
   "execution_count": 57,
   "metadata": {},
   "outputs": [],
   "source": [
    "for i in range(len(data_json_2018)):\n",
    "    for j in range(len(data_json_2018[i][\"labels\"])):\n",
    "        index=data_json_2018[i][\"labels\"][j]\n",
    "        data_json_2018[i][\"labels\"][j]=index_to_labels_1[index]"
   ]
  },
  {
   "cell_type": "code",
   "execution_count": 58,
   "metadata": {},
   "outputs": [],
   "source": [
    "with open('./ccks2017_task2.json') as fp:\n",
    "    data_json_2017=json.load(fp)"
   ]
  },
  {
   "cell_type": "code",
   "execution_count": 59,
   "metadata": {},
   "outputs": [],
   "source": [
    "for data_dict in data_json_2018:\n",
    "    data_json_2017.append(data_dict)\n",
    "data_json_2017_2018=data_json_2017"
   ]
  },
  {
   "cell_type": "code",
   "execution_count": 60,
   "metadata": {},
   "outputs": [],
   "source": [
    "index_to_labels_2={\n",
    "    \"Symptom\":\"B-symp\",\n",
    "    \"Anatomy\":\"B-body\",\n",
    "    \"Treatment\":\"B-cure\",\n",
    "    \"Operation\":\"B-cure\",\n",
    "    \"Test\":\"B-chec\",\n",
    "    \"Disease\":\"B-dise\",\n",
    "    \"Drug\":\"B-drug\"\n",
    "}\n",
    "index_to_labels_3={\n",
    "    \"Symptom\":\"I-symp\",\n",
    "    \"Anatomy\":\"I-body\",\n",
    "    \"Treatment\":\"I-cure\",\n",
    "    \"Operation\":\"I-cure\",\n",
    "    \"Test\":\"I-chec\",\n",
    "    \"Disease\":\"I-dise\",\n",
    "    \"Drug\":\"I-drug\",\n",
    "}"
   ]
  },
  {
   "cell_type": "code",
   "execution_count": 61,
   "metadata": {},
   "outputs": [],
   "source": [
    "data_mmc=[]\n",
    "for i in range (1,42):#对于每一个json文件进行读取\n",
    "    dir=f'./mmc/{i}.json'\n",
    "    with open(dir,'r',encoding='utf-8',errors='ignore') as data:\n",
    "        data_json=json.load(data)\n",
    "    paragraphs=data_json[\"paragraphs\"]\n",
    "    for paragraph in paragraphs:#获取文段\n",
    "        sentences=paragraph[\"sentences\"]\n",
    "        for sentence in sentences:#获取句子\n",
    "            text=sentence[\"sentence\"]\n",
    "            labels=['O' for i in range(0,len(text))]\n",
    "            entities=sentence[\"entities\"]\n",
    "            for entity in entities:#读取实体\n",
    "                entity_type=entity[\"entity_type\"]\n",
    "                start_idx=entity[\"start_idx\"]\n",
    "                end_idx=entity[\"end_idx\"]\n",
    "                if not(labels[start_idx]!='O' and entity_type=='Anatomy'):\n",
    "                    try:\n",
    "                        labels[start_idx]=index_to_labels_2[entity_type]\n",
    "                    except KeyError:\n",
    "                        pass\n",
    "                for i in range(start_idx+1,end_idx):\n",
    "                    if not(labels[start_idx]!='O' and entity_type=='Anatomy'):\n",
    "                        try:\n",
    "                            labels[i]=index_to_labels_3[entity_type]\n",
    "                        except KeyError:\n",
    "                            pass\n",
    "            data_mmc.append({\"text\":text,\"labels\":labels})"
   ]
  },
  {
   "cell_type": "code",
   "execution_count": 62,
   "metadata": {},
   "outputs": [],
   "source": [
    "with open('./mmc.json','w',encoding='utf-8',errors='ignore') as fp:\n",
    "    fp.write('[')\n",
    "    for data_dict,idx in zip(data_mmc,range(len(data_mmc))):\n",
    "        json.dump(data_dict,fp,ensure_ascii=False)\n",
    "        if idx!= len(data_mmc)-1:\n",
    "            fp.write(',\\n')\n",
    "    fp.write(']')"
   ]
  },
  {
   "cell_type": "code",
   "execution_count": 64,
   "metadata": {},
   "outputs": [],
   "source": [
    "data_json_2017_2018_mmc=data_json_2017_2018+data_mmc"
   ]
  },
  {
   "cell_type": "code",
   "execution_count": 65,
   "metadata": {},
   "outputs": [],
   "source": [
    "with open('./ccks_2017_2018_mmc.json','w',encoding='utf-8',errors='ignore') as fp:\n",
    "    fp.write('[')\n",
    "    for data_dict,idx in zip(data_json_2017_2018_mmc,range(len(data_json_2017_2018_mmc))):\n",
    "        json.dump(data_dict,fp,ensure_ascii=False)\n",
    "        if idx!= len(data_json_2017_2018_mmc)-1:\n",
    "            fp.write(',\\n')\n",
    "    fp.write(']')"
   ]
  }
 ],
 "metadata": {
  "kernelspec": {
   "display_name": "python3_11_5",
   "language": "python",
   "name": "python3"
  },
  "language_info": {
   "codemirror_mode": {
    "name": "ipython",
    "version": 3
   },
   "file_extension": ".py",
   "mimetype": "text/x-python",
   "name": "python",
   "nbconvert_exporter": "python",
   "pygments_lexer": "ipython3",
   "version": "3.11.5"
  }
 },
 "nbformat": 4,
 "nbformat_minor": 2
}
