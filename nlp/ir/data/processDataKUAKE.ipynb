{
 "cells": [
  {
   "cell_type": "code",
   "execution_count": 17,
   "metadata": {},
   "outputs": [],
   "source": [
    "import json"
   ]
  },
  {
   "cell_type": "code",
   "execution_count": 18,
   "metadata": {},
   "outputs": [],
   "source": [
    "with open('./KUAKE-QIC/KUAKE-QIC_train.json','r',encoding='utf-8') as fp:\n",
    "    train_data_json=json.load(fp)\n",
    "with open('./KUAKE-QIC/KUAKE-QIC_dev.json','r',encoding='utf-8') as fp:\n",
    "    val_data_json=json.load(fp)\n",
    "# with open('./KUAKE-QIC/KUAKE-QIC_test.json','r',encoding='utf-8') as fp:\n",
    "#     test_data_json=json.load(fp)"
   ]
  },
  {
   "cell_type": "code",
   "execution_count": 19,
   "metadata": {},
   "outputs": [],
   "source": [
    "labels_dict={\n",
    "    \"病情诊断\":1,\n",
    "    \"病因分析\":2,\n",
    "    \"治疗方案\":3,\n",
    "    \"就医建议\":4,\n",
    "    \"指标解读\":5,\n",
    "    \"疾病表述\":6,\n",
    "    \"功效作用\":7,\n",
    "    \"后果表述\":8,\n",
    "    \"其他\":0\n",
    "}"
   ]
  },
  {
   "cell_type": "code",
   "execution_count": 20,
   "metadata": {},
   "outputs": [],
   "source": [
    "train_dict_list=[]\n",
    "val_dict_list=[]\n",
    "# test_dict_list=[]"
   ]
  },
  {
   "cell_type": "code",
   "execution_count": 21,
   "metadata": {},
   "outputs": [],
   "source": [
    "for data_dict in train_data_json:\n",
    "    try:\n",
    "        labels_dict[data_dict[\"label\"]]\n",
    "    except KeyError:\n",
    "        continue\n",
    "    train_dict_list.append({\"text\":data_dict[\"query\"],\"label\":data_dict[\"label\"]})\n",
    "for data_dict in val_data_json:\n",
    "    try:\n",
    "        labels_dict[data_dict[\"label\"]]\n",
    "    except KeyError:\n",
    "        continue\n",
    "    val_dict_list.append({\"text\":data_dict[\"query\"],\"label\":data_dict[\"label\"]})\n",
    "# for data_dict in test_data_json:\n",
    "#     try:\n",
    "#         test_dict_list.append({\"text\":data_dict[\"query\"],\"label\":labels_dict[data_dict[\"label\"]]})\n",
    "#     except KeyError:\n",
    "#         pass"
   ]
  },
  {
   "cell_type": "code",
   "execution_count": 22,
   "metadata": {},
   "outputs": [
    {
     "name": "stdout",
     "output_type": "stream",
     "text": [
      "6104\n",
      "1785\n"
     ]
    }
   ],
   "source": [
    "print(len(train_dict_list))\n",
    "print(len(val_dict_list))\n",
    "# print(len(test_dict_list))"
   ]
  },
  {
   "cell_type": "code",
   "execution_count": 23,
   "metadata": {},
   "outputs": [],
   "source": [
    "data_dict_list=[]\n",
    "data_dict_list.extend(train_dict_list)\n",
    "data_dict_list.extend(val_dict_list)"
   ]
  },
  {
   "cell_type": "code",
   "execution_count": 24,
   "metadata": {},
   "outputs": [],
   "source": [
    "with open('./KUAKE_QIC_data.json','w',encoding='utf-8',errors='ignore') as fp:\n",
    "    fp.write('[')\n",
    "    for data_dict,idx in zip(data_dict_list,range(len(data_dict_list))):\n",
    "        json.dump(data_dict,fp,ensure_ascii=False)\n",
    "        if idx!= len(data_dict_list)-1:\n",
    "            fp.write(',\\n')\n",
    "    fp.write(']')"
   ]
  }
 ],
 "metadata": {
  "kernelspec": {
   "display_name": "python3_11_5",
   "language": "python",
   "name": "python3"
  },
  "language_info": {
   "codemirror_mode": {
    "name": "ipython",
    "version": 3
   },
   "file_extension": ".py",
   "mimetype": "text/x-python",
   "name": "python",
   "nbconvert_exporter": "python",
   "pygments_lexer": "ipython3",
   "version": "3.11.5"
  }
 },
 "nbformat": 4,
 "nbformat_minor": 2
}
