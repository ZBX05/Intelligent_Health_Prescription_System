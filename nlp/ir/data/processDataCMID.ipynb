{
 "cells": [
  {
   "cell_type": "code",
   "execution_count": 3,
   "metadata": {},
   "outputs": [],
   "source": [
    "import json\n",
    "import matplotlib.pyplot as plt\n",
    "import seaborn as sns"
   ]
  },
  {
   "cell_type": "code",
   "execution_count": 4,
   "metadata": {},
   "outputs": [],
   "source": [
    "with open('./CMID.json','r',encoding='utf-8',errors='ignore') as fp:\n",
    "    data_json=json.load(fp)"
   ]
  },
  {
   "cell_type": "code",
   "execution_count": 5,
   "metadata": {},
   "outputs": [],
   "source": [
    "# target_label={\n",
    "#     \"'病症'\":[\"'定义'\",\"'病因'\",\"'临床表现(病症表现)'\",\"'治疗方法'\"],\n",
    "#     \"'治疗方案'\":[\"'化验/体检方案'\",\"'治疗时间'\",\"'方法'\",\"'正常指标'\"],\n",
    "#     \"'其他'\":[\"'无法确定'\"]\n",
    "# }\n",
    "target_label={\n",
    "    \"'病症'\":[\"'定义'\",\"'病因'\",\"'临床表现(病症表现)'\",\"'治疗方法'\",\"'相关病症'\"],\n",
    "    \"'治疗方案'\":[\"'化验/体检方案'\",\"'治疗时间'\",\"'方法'\",\"'正常指标'\"],\n",
    "    \"'其他'\":[\"'无法确定'\"]\n",
    "}"
   ]
  },
  {
   "cell_type": "code",
   "execution_count": 6,
   "metadata": {},
   "outputs": [],
   "source": [
    "data_list_1=[]\n",
    "data_list_2=[]"
   ]
  },
  {
   "cell_type": "code",
   "execution_count": 7,
   "metadata": {},
   "outputs": [],
   "source": [
    "for data_dict in data_json:\n",
    "    label_4class,label_36class=data_dict[\"label_4class\"][0],data_dict[\"label_36class\"][0]\n",
    "    try:\n",
    "        if label_36class in target_label[label_4class]:\n",
    "            data_list_1.append({\"text\":data_dict[\"originalText\"],\n",
    "                              \"label_4class\":label_4class.replace('\\'',''),\n",
    "                              \"label_36class\":label_36class.replace('\\'','')})\n",
    "    except KeyError:\n",
    "        pass"
   ]
  },
  {
   "cell_type": "code",
   "execution_count": 8,
   "metadata": {},
   "outputs": [
    {
     "name": "stdout",
     "output_type": "stream",
     "text": [
      "217\n"
     ]
    }
   ],
   "source": [
    "max_length=0\n",
    "for data_dict in data_list_1:\n",
    "    if(len(data_dict[\"text\"])>max_length):\n",
    "        max_length=len(data_dict[\"text\"])\n",
    "print(max_length)"
   ]
  },
  {
   "cell_type": "code",
   "execution_count": 9,
   "metadata": {},
   "outputs": [],
   "source": [
    "with open('./CMID_data.json','w',encoding='utf-8',errors='ignore') as fp:\n",
    "    fp.write('[')\n",
    "    for data_dict,idx in zip(data_list_1,range(len(data_list_1))):\n",
    "        json.dump(data_dict,fp,ensure_ascii=False)\n",
    "        if idx!= len(data_list_1)-1:\n",
    "            fp.write(',\\n')\n",
    "    fp.write(']')"
   ]
  },
  {
   "cell_type": "code",
   "execution_count": 10,
   "metadata": {},
   "outputs": [],
   "source": [
    "for data_dict in data_json:\n",
    "    label_4class,label_36class=data_dict[\"label_4class\"][0],data_dict[\"label_36class\"][0]\n",
    "    data_list_2.append({\"text\":data_dict[\"originalText\"],\n",
    "                      \"label_4class\":label_4class.replace('\\'',''),\n",
    "                      \"label_36class\":label_36class.replace('\\'','')})"
   ]
  },
  {
   "cell_type": "code",
   "execution_count": 11,
   "metadata": {},
   "outputs": [
    {
     "name": "stdout",
     "output_type": "stream",
     "text": [
      "221\n"
     ]
    }
   ],
   "source": [
    "max_length=0\n",
    "for data_dict in data_list_2:\n",
    "    if(len(data_dict[\"text\"])>max_length):\n",
    "        max_length=len(data_dict[\"text\"])\n",
    "print(max_length)"
   ]
  },
  {
   "cell_type": "code",
   "execution_count": 12,
   "metadata": {},
   "outputs": [],
   "source": [
    "with open('./CMID_data_total.json','w',encoding='utf-8',errors='ignore') as fp:\n",
    "    fp.write('[')\n",
    "    for data_dict,idx in zip(data_list_2,range(len(data_list_2))):\n",
    "        json.dump(data_dict,fp,ensure_ascii=False)\n",
    "        if idx!= len(data_list_2)-1:\n",
    "            fp.write(',\\n')\n",
    "    fp.write(']')"
   ]
  },
  {
   "cell_type": "code",
   "execution_count": 13,
   "metadata": {},
   "outputs": [
    {
     "name": "stdout",
     "output_type": "stream",
     "text": [
      "{'病症': ['严重性', '所属科室', '治愈率', '治疗方法', '禁忌', '预防', '推荐医院', '传染性', '病症禁忌', '诱因', '病因', '临床表现(病症表现)', '相关病症', '定义'], '药物': ['用法', '作用', '价钱', '禁忌', '适用症', '设备用法', '药物禁忌', '功效', '成分', '副作用'], '其他': ['无法确定', '两性', '对比', '多问', '整容', '设备用法', '养生'], '治疗方案': ['手术时间', '恢复', '费用', '疗效', '有效时间', '方法', '治疗时间', '临床意义/检查目的', '正常指标', '恢复时间', '化验/体检方案']}\n"
     ]
    }
   ],
   "source": [
    "dict_={}\n",
    "for data_dict in data_json:\n",
    "    label_4class,label_36class=data_dict[\"label_4class\"][0],data_dict[\"label_36class\"][0]\n",
    "    try:\n",
    "        dict_[label_4class.replace('\\'','')].append(label_36class.replace('\\'',''))\n",
    "    except KeyError:\n",
    "        dict_[label_4class.replace('\\'','')]=[label_36class.replace('\\'','')]\n",
    "for key in dict_.keys():\n",
    "    dict_[key]=list(set(dict_[key]))\n",
    "print(dict_)"
   ]
  }
 ],
 "metadata": {
  "kernelspec": {
   "display_name": "python3_11_5",
   "language": "python",
   "name": "python3"
  },
  "language_info": {
   "codemirror_mode": {
    "name": "ipython",
    "version": 3
   },
   "file_extension": ".py",
   "mimetype": "text/x-python",
   "name": "python",
   "nbconvert_exporter": "python",
   "pygments_lexer": "ipython3",
   "version": "3.11.5"
  }
 },
 "nbformat": 4,
 "nbformat_minor": 2
}
